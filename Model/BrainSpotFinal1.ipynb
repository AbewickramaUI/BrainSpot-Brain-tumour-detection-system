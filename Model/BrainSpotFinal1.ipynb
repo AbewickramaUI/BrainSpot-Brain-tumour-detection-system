{
  "nbformat": 4,
  "nbformat_minor": 0,
  "metadata": {
    "colab": {
      "provenance": [],
      "gpuType": "T4"
    },
    "kernelspec": {
      "name": "python3",
      "display_name": "Python 3"
    },
    "language_info": {
      "name": "python"
    },
    "accelerator": "GPU"
  },
  "cells": [
    {
      "cell_type": "code",
      "execution_count": 6,
      "metadata": {
        "id": "ToxY6le0prCW"
      },
      "outputs": [],
      "source": [
        "#import and lode modules\n",
        "import numpy as np\n",
        "import matplotlib.pyplot as plt\n",
        "import os\n",
        "import math\n",
        "import shutil\n",
        "import glob"
      ]
    },
    {
      "cell_type": "code",
      "source": [
        "#from google.colab import drive\n",
        "#drive.mount('/content/drive')\n"
      ],
      "metadata": {
        "id": "-m2GoX521a3E"
      },
      "execution_count": 7,
      "outputs": []
    },
    {
      "cell_type": "code",
      "source": [
        "Root=\"/content/drive/MyDrive/NewDataset3/Brain Tumour1\"\n",
        "number_of_images={}\n",
        "for dir in os.listdir(Root):\n",
        "  number_of_images[dir]=len(os.listdir(os.path.join(Root,dir)))\n"
      ],
      "metadata": {
        "id": "3uXmkmhYAvAu"
      },
      "execution_count": 8,
      "outputs": []
    },
    {
      "cell_type": "code",
      "source": [
        "number_of_images.items()"
      ],
      "metadata": {
        "colab": {
          "base_uri": "https://localhost:8080/"
        },
        "id": "wQ9b8bIUE6G1",
        "outputId": "99e9aee4-b91b-462b-8b55-ec0ff2c3a8de"
      },
      "execution_count": 9,
      "outputs": [
        {
          "output_type": "execute_result",
          "data": {
            "text/plain": [
              "dict_items([('Non tumour', 2075), ('Tumour', 1687)])"
            ]
          },
          "metadata": {},
          "execution_count": 9
        }
      ]
    },
    {
      "cell_type": "code",
      "source": [
        "#Split the data -> 70% for train, 15% for validation, 15% for testing\n",
        "\n",
        "def dataFolder(p,split):\n",
        "\n",
        "  if not os.path.exists(\"./\"+p):\n",
        "    os.mkdir(\"./\"+p)\n",
        "\n",
        "    for dir in os.listdir(Root):\n",
        "      os.makedirs(\"./\"+p+\"/\"+dir)\n",
        "\n",
        "      for img in np.random.choice(a=os.listdir(os.path.join(Root,dir)),\n",
        "                                  size=(math.floor(split*number_of_images[dir])-5),\n",
        "                                  replace=False):\n",
        "\n",
        "        O=os.path.join(Root,dir,img)\n",
        "        D=os.path.join(\"./\"+p,dir)\n",
        "        shutil.copy(O,D)\n",
        "        #os.remove(O)\n",
        "\n",
        "  else:\n",
        "    print( f\"{p}folder exists\")\n"
      ],
      "metadata": {
        "id": "u99ZFCkfHdZl"
      },
      "execution_count": 10,
      "outputs": []
    },
    {
      "cell_type": "code",
      "source": [
        "dataFolder(\"train\",0.7)"
      ],
      "metadata": {
        "id": "rp6peYtCFp_A"
      },
      "execution_count": 11,
      "outputs": []
    },
    {
      "cell_type": "code",
      "source": [
        "dataFolder(\"validation\",0.15)"
      ],
      "metadata": {
        "id": "F6d6YhQBpOBa"
      },
      "execution_count": 12,
      "outputs": []
    },
    {
      "cell_type": "code",
      "source": [
        "dataFolder(\"test\",0.15)"
      ],
      "metadata": {
        "id": "zfuoO0Y-pYsv"
      },
      "execution_count": 13,
      "outputs": []
    },
    {
      "cell_type": "code",
      "source": [
        "#Model build\n",
        "\n",
        "from keras.layers import Conv2D, MaxPool2D,Dropout,Flatten,Dense,BatchNormalization,GlobalAvgPool2D\n",
        "from keras.models import Sequential\n",
        "from keras.preprocessing.image import ImageDataGenerator\n",
        "import keras\n"
      ],
      "metadata": {
        "id": "hCVofipxps5_"
      },
      "execution_count": 14,
      "outputs": []
    },
    {
      "cell_type": "code",
      "source": [
        "import keras\n",
        "print(keras.__version__)\n"
      ],
      "metadata": {
        "id": "DVoLtTj_tz1c",
        "colab": {
          "base_uri": "https://localhost:8080/"
        },
        "outputId": "01dc5fe3-848f-4c79-f270-254f2207f2de"
      },
      "execution_count": 15,
      "outputs": [
        {
          "output_type": "stream",
          "name": "stdout",
          "text": [
            "2.12.0\n"
          ]
        }
      ]
    },
    {
      "cell_type": "code",
      "source": [
        "\n",
        "#CNN model\n",
        "\n",
        "from keras.models import Sequential  # Make sure to import Sequential with an uppercase \"S\"\n",
        "from keras.layers import Conv2D, MaxPool2D, Dropout, Flatten, Dense\n",
        "\n",
        "model = Sequential()\n",
        "\n",
        "model.add(Conv2D(filters=16, kernel_size=(3, 3), activation='relu', input_shape=(224, 224, 3), padding='same'))\n",
        "model.add(Conv2D(filters=36, kernel_size=(3, 3), activation='relu'))\n",
        "model.add(MaxPool2D(pool_size=(2, 2)))\n",
        "\n",
        "model.add(Conv2D(filters=64, kernel_size=(3, 3), activation='relu'))\n",
        "model.add(MaxPool2D(pool_size=(2, 2)))\n",
        "\n",
        "model.add(Conv2D(filters=128, kernel_size=(3, 3), activation='relu'))\n",
        "model.add(MaxPool2D(pool_size=(2, 2)))\n",
        "\n",
        "model.add(GlobalAvgPool2D())  # Add Global Average Pooling layer\n",
        "\n",
        "model.add(Dropout(rate=0.25))\n",
        "\n",
        "model.add(Dense(units=128, activation='relu'))\n",
        "model.add(Dropout(rate=0.25))\n",
        "model.add(Dense(units=1, activation='sigmoid'))\n",
        "\n",
        "model.summary()\n",
        "\n",
        "\n"
      ],
      "metadata": {
        "id": "FfXtgwUrq-Cr",
        "colab": {
          "base_uri": "https://localhost:8080/"
        },
        "outputId": "d6e9b5b3-9e54-4a48-e95c-6e23bdc6348b"
      },
      "execution_count": 16,
      "outputs": [
        {
          "output_type": "stream",
          "name": "stdout",
          "text": [
            "Model: \"sequential\"\n",
            "_________________________________________________________________\n",
            " Layer (type)                Output Shape              Param #   \n",
            "=================================================================\n",
            " conv2d (Conv2D)             (None, 224, 224, 16)      448       \n",
            "                                                                 \n",
            " conv2d_1 (Conv2D)           (None, 222, 222, 36)      5220      \n",
            "                                                                 \n",
            " max_pooling2d (MaxPooling2D  (None, 111, 111, 36)     0         \n",
            " )                                                               \n",
            "                                                                 \n",
            " conv2d_2 (Conv2D)           (None, 109, 109, 64)      20800     \n",
            "                                                                 \n",
            " max_pooling2d_1 (MaxPooling  (None, 54, 54, 64)       0         \n",
            " 2D)                                                             \n",
            "                                                                 \n",
            " conv2d_3 (Conv2D)           (None, 52, 52, 128)       73856     \n",
            "                                                                 \n",
            " max_pooling2d_2 (MaxPooling  (None, 26, 26, 128)      0         \n",
            " 2D)                                                             \n",
            "                                                                 \n",
            " global_average_pooling2d (G  (None, 128)              0         \n",
            " lobalAveragePooling2D)                                          \n",
            "                                                                 \n",
            " dropout (Dropout)           (None, 128)               0         \n",
            "                                                                 \n",
            " dense (Dense)               (None, 128)               16512     \n",
            "                                                                 \n",
            " dropout_1 (Dropout)         (None, 128)               0         \n",
            "                                                                 \n",
            " dense_1 (Dense)             (None, 1)                 129       \n",
            "                                                                 \n",
            "=================================================================\n",
            "Total params: 116,965\n",
            "Trainable params: 116,965\n",
            "Non-trainable params: 0\n",
            "_________________________________________________________________\n"
          ]
        }
      ]
    },
    {
      "cell_type": "code",
      "source": [],
      "metadata": {
        "id": "Em5lcQ0TvswH"
      },
      "execution_count": 16,
      "outputs": []
    },
    {
      "cell_type": "code",
      "source": [
        "model.compile(optimizer='adam',loss=keras.losses.binary_crossentropy, metrics=['accuracy'])"
      ],
      "metadata": {
        "id": "4Pq9M18ovCpN"
      },
      "execution_count": 17,
      "outputs": []
    },
    {
      "cell_type": "code",
      "source": [
        "#use data generator\n",
        "\n",
        "def preImage1(path):\n",
        "  \"\"\"\n",
        "  input:path\n",
        "  output:pre proccessed images\n",
        "  \"\"\"\n",
        "  image_data=ImageDataGenerator(zoom_range=0.2,shear_range=0.2,rescale=1/255,horizontal_flip=True)  #data augmentation\n",
        "\n",
        "  image=image_data.flow_from_directory(directory=path,target_size=(244,244),batch_size=32,class_mode='binary')\n",
        "\n",
        "  return image\n"
      ],
      "metadata": {
        "id": "pX3dF7BSvqEU"
      },
      "execution_count": 18,
      "outputs": []
    },
    {
      "cell_type": "code",
      "source": [
        "from tensorflow.python.util.compat import path_to_str\n",
        "path=\"/content/train\"\n",
        "\n",
        "train_data=preImage1(path)"
      ],
      "metadata": {
        "id": "dM43RXJbw5CQ",
        "colab": {
          "base_uri": "https://localhost:8080/"
        },
        "outputId": "9188e345-1792-4622-a895-e8ca65644f48"
      },
      "execution_count": 19,
      "outputs": [
        {
          "output_type": "stream",
          "name": "stdout",
          "text": [
            "Found 2622 images belonging to 2 classes.\n"
          ]
        }
      ]
    },
    {
      "cell_type": "code",
      "source": [
        "#use data generator\n",
        "\n",
        "def preImage2(path):\n",
        "  \"\"\"\n",
        "  input:path\n",
        "  output:pre proccessed images\n",
        "  \"\"\"\n",
        "  image_data=ImageDataGenerator(rescale=1/255)#no data augmentation in testing\n",
        "\n",
        "  image=image_data.flow_from_directory(directory=path,target_size=(244,244),batch_size=32,class_mode='binary')\n",
        "\n",
        "  return image"
      ],
      "metadata": {
        "id": "j05-osQVxSUt"
      },
      "execution_count": 20,
      "outputs": []
    },
    {
      "cell_type": "code",
      "source": [
        "path=\"/content/test\"\n",
        "\n",
        "test_data=preImage2(path)"
      ],
      "metadata": {
        "id": "MtRJdKycxlkT",
        "colab": {
          "base_uri": "https://localhost:8080/"
        },
        "outputId": "66ae8e82-38c2-43fd-fd49-a143e0bcd4f9"
      },
      "execution_count": 21,
      "outputs": [
        {
          "output_type": "stream",
          "name": "stdout",
          "text": [
            "Found 554 images belonging to 2 classes.\n"
          ]
        }
      ]
    },
    {
      "cell_type": "code",
      "source": [
        "path=\"/content/validation\"\n",
        "\n",
        "val_data=preImage2(path)"
      ],
      "metadata": {
        "id": "aXU-NXaLxx_f",
        "colab": {
          "base_uri": "https://localhost:8080/"
        },
        "outputId": "d4c845c3-c34e-46ec-cee4-ab8fb2afbb55"
      },
      "execution_count": 22,
      "outputs": [
        {
          "output_type": "stream",
          "name": "stdout",
          "text": [
            "Found 554 images belonging to 2 classes.\n"
          ]
        }
      ]
    },
    {
      "cell_type": "code",
      "source": [],
      "metadata": {
        "id": "U713dnFNz359"
      },
      "execution_count": 22,
      "outputs": []
    },
    {
      "cell_type": "code",
      "source": [
        "#early stopping and model check point\n",
        "\n",
        "from keras.callbacks import ModelCheckpoint,EarlyStopping\n",
        "\n",
        "#early stopping\n",
        "\n",
        "es=EarlyStopping(monitor=\"val_accuracy\",min_delta=0.01,patience=12,verbose=1,mode='auto')\n",
        "\n",
        "#model checkpoint\n",
        "\n",
        "\n",
        "mc=ModelCheckpoint(monitor=\"val_accuracy\",filepath=\"./bestmodel.h5\",verbose=1,save_best=True,mode='auto')\n",
        "\n",
        "cd=[es,mc]"
      ],
      "metadata": {
        "id": "SzePhBvIyAtH"
      },
      "execution_count": 23,
      "outputs": []
    },
    {
      "cell_type": "code",
      "source": [
        "model.compile(optimizer='adam', loss='binary_crossentropy', metrics=['accuracy'])\n"
      ],
      "metadata": {
        "id": "3bvWKN3Z12Mx"
      },
      "execution_count": 24,
      "outputs": []
    },
    {
      "cell_type": "code",
      "source": [
        "#Model training\n",
        "\n",
        "hs=model.fit_generator(generator=train_data,\n",
        "                       steps_per_epoch=8,\n",
        "                       epochs=30,\n",
        "                       verbose=1,\n",
        "                       validation_data=val_data,\n",
        "                       validation_steps=16,\n",
        "                       callbacks=cd)\n"
      ],
      "metadata": {
        "id": "QXffqvALzTK6",
        "colab": {
          "base_uri": "https://localhost:8080/"
        },
        "outputId": "e44fa08d-e7f9-49ad-d183-619de460ffa3"
      },
      "execution_count": 25,
      "outputs": [
        {
          "output_type": "stream",
          "name": "stderr",
          "text": [
            "<ipython-input-25-c6eb9cb9397b>:3: UserWarning: `Model.fit_generator` is deprecated and will be removed in a future version. Please use `Model.fit`, which supports generators.\n",
            "  hs=model.fit_generator(generator=train_data,\n"
          ]
        },
        {
          "output_type": "stream",
          "name": "stdout",
          "text": [
            "Epoch 1/30\n",
            "8/8 [==============================] - ETA: 0s - loss: 0.6938 - accuracy: 0.5273\n",
            "Epoch 1: saving model to ./bestmodel.h5\n",
            "8/8 [==============================] - 20s 609ms/step - loss: 0.6938 - accuracy: 0.5273 - val_loss: 0.6865 - val_accuracy: 0.5625\n",
            "Epoch 2/30\n",
            "8/8 [==============================] - ETA: 0s - loss: 0.6869 - accuracy: 0.5625\n",
            "Epoch 2: saving model to ./bestmodel.h5\n",
            "8/8 [==============================] - 4s 548ms/step - loss: 0.6869 - accuracy: 0.5625 - val_loss: 0.6854 - val_accuracy: 0.5488\n",
            "Epoch 3/30\n",
            "8/8 [==============================] - ETA: 0s - loss: 0.6902 - accuracy: 0.5312\n",
            "Epoch 3: saving model to ./bestmodel.h5\n",
            "8/8 [==============================] - 6s 837ms/step - loss: 0.6902 - accuracy: 0.5312 - val_loss: 0.6833 - val_accuracy: 0.5508\n",
            "Epoch 4/30\n",
            "8/8 [==============================] - ETA: 0s - loss: 0.6805 - accuracy: 0.5664\n",
            "Epoch 4: saving model to ./bestmodel.h5\n",
            "8/8 [==============================] - 5s 583ms/step - loss: 0.6805 - accuracy: 0.5664 - val_loss: 0.6812 - val_accuracy: 0.5527\n",
            "Epoch 5/30\n",
            "8/8 [==============================] - ETA: 0s - loss: 0.6957 - accuracy: 0.4883\n",
            "Epoch 5: saving model to ./bestmodel.h5\n",
            "8/8 [==============================] - 5s 584ms/step - loss: 0.6957 - accuracy: 0.4883 - val_loss: 0.6854 - val_accuracy: 0.5508\n",
            "Epoch 6/30\n",
            "8/8 [==============================] - ETA: 0s - loss: 0.6862 - accuracy: 0.5547\n",
            "Epoch 6: saving model to ./bestmodel.h5\n",
            "8/8 [==============================] - 6s 764ms/step - loss: 0.6862 - accuracy: 0.5547 - val_loss: 0.6815 - val_accuracy: 0.5488\n",
            "Epoch 7/30\n",
            "8/8 [==============================] - ETA: 0s - loss: 0.6775 - accuracy: 0.5354\n",
            "Epoch 7: saving model to ./bestmodel.h5\n",
            "8/8 [==============================] - 6s 846ms/step - loss: 0.6775 - accuracy: 0.5354 - val_loss: 0.6687 - val_accuracy: 0.5605\n",
            "Epoch 8/30\n",
            "8/8 [==============================] - ETA: 0s - loss: 0.6871 - accuracy: 0.5391\n",
            "Epoch 8: saving model to ./bestmodel.h5\n",
            "8/8 [==============================] - 6s 790ms/step - loss: 0.6871 - accuracy: 0.5391 - val_loss: 0.6700 - val_accuracy: 0.6914\n",
            "Epoch 9/30\n",
            "8/8 [==============================] - ETA: 0s - loss: 0.6626 - accuracy: 0.6328\n",
            "Epoch 9: saving model to ./bestmodel.h5\n",
            "8/8 [==============================] - 5s 582ms/step - loss: 0.6626 - accuracy: 0.6328 - val_loss: 0.6515 - val_accuracy: 0.7031\n",
            "Epoch 10/30\n",
            "8/8 [==============================] - ETA: 0s - loss: 0.6438 - accuracy: 0.6484\n",
            "Epoch 10: saving model to ./bestmodel.h5\n",
            "8/8 [==============================] - 4s 544ms/step - loss: 0.6438 - accuracy: 0.6484 - val_loss: 0.7097 - val_accuracy: 0.5488\n",
            "Epoch 11/30\n",
            "8/8 [==============================] - ETA: 0s - loss: 0.6641 - accuracy: 0.6250\n",
            "Epoch 11: saving model to ./bestmodel.h5\n",
            "8/8 [==============================] - 6s 797ms/step - loss: 0.6641 - accuracy: 0.6250 - val_loss: 0.6364 - val_accuracy: 0.5566\n",
            "Epoch 12/30\n",
            "8/8 [==============================] - ETA: 0s - loss: 0.6430 - accuracy: 0.5748\n",
            "Epoch 12: saving model to ./bestmodel.h5\n",
            "8/8 [==============================] - 5s 583ms/step - loss: 0.6430 - accuracy: 0.5748 - val_loss: 0.6431 - val_accuracy: 0.5469\n",
            "Epoch 13/30\n",
            "8/8 [==============================] - ETA: 0s - loss: 0.6429 - accuracy: 0.6055\n",
            "Epoch 13: saving model to ./bestmodel.h5\n",
            "8/8 [==============================] - 6s 761ms/step - loss: 0.6429 - accuracy: 0.6055 - val_loss: 0.6098 - val_accuracy: 0.7344\n",
            "Epoch 14/30\n",
            "8/8 [==============================] - ETA: 0s - loss: 0.6094 - accuracy: 0.6680\n",
            "Epoch 14: saving model to ./bestmodel.h5\n",
            "8/8 [==============================] - 5s 556ms/step - loss: 0.6094 - accuracy: 0.6680 - val_loss: 0.5918 - val_accuracy: 0.6094\n",
            "Epoch 15/30\n",
            "8/8 [==============================] - ETA: 0s - loss: 0.5704 - accuracy: 0.7148\n",
            "Epoch 15: saving model to ./bestmodel.h5\n",
            "8/8 [==============================] - 5s 581ms/step - loss: 0.5704 - accuracy: 0.7148 - val_loss: 0.5486 - val_accuracy: 0.7383\n",
            "Epoch 16/30\n",
            "8/8 [==============================] - ETA: 0s - loss: 0.6209 - accuracy: 0.6575\n",
            "Epoch 16: saving model to ./bestmodel.h5\n",
            "8/8 [==============================] - 7s 859ms/step - loss: 0.6209 - accuracy: 0.6575 - val_loss: 0.5382 - val_accuracy: 0.7441\n",
            "Epoch 17/30\n",
            "8/8 [==============================] - ETA: 0s - loss: 0.5693 - accuracy: 0.7070\n",
            "Epoch 17: saving model to ./bestmodel.h5\n",
            "8/8 [==============================] - 4s 540ms/step - loss: 0.5693 - accuracy: 0.7070 - val_loss: 0.7773 - val_accuracy: 0.5508\n",
            "Epoch 18/30\n",
            "8/8 [==============================] - ETA: 0s - loss: 0.6495 - accuracy: 0.6367\n",
            "Epoch 18: saving model to ./bestmodel.h5\n",
            "8/8 [==============================] - 6s 757ms/step - loss: 0.6495 - accuracy: 0.6367 - val_loss: 0.6387 - val_accuracy: 0.6309\n",
            "Epoch 19/30\n",
            "8/8 [==============================] - ETA: 0s - loss: 0.6340 - accuracy: 0.6523\n",
            "Epoch 19: saving model to ./bestmodel.h5\n",
            "8/8 [==============================] - 6s 780ms/step - loss: 0.6340 - accuracy: 0.6523 - val_loss: 0.6105 - val_accuracy: 0.5879\n",
            "Epoch 20/30\n",
            "8/8 [==============================] - ETA: 0s - loss: 0.5584 - accuracy: 0.6875\n",
            "Epoch 20: saving model to ./bestmodel.h5\n",
            "8/8 [==============================] - 4s 539ms/step - loss: 0.5584 - accuracy: 0.6875 - val_loss: 0.5786 - val_accuracy: 0.6621\n",
            "Epoch 21/30\n",
            "8/8 [==============================] - ETA: 0s - loss: 0.5362 - accuracy: 0.7578\n",
            "Epoch 21: saving model to ./bestmodel.h5\n",
            "8/8 [==============================] - 4s 552ms/step - loss: 0.5362 - accuracy: 0.7578 - val_loss: 0.6381 - val_accuracy: 0.5977\n",
            "Epoch 22/30\n",
            "8/8 [==============================] - ETA: 0s - loss: 0.5416 - accuracy: 0.7500\n",
            "Epoch 22: saving model to ./bestmodel.h5\n",
            "8/8 [==============================] - 6s 760ms/step - loss: 0.5416 - accuracy: 0.7500 - val_loss: 0.5770 - val_accuracy: 0.6992\n",
            "Epoch 23/30\n",
            "8/8 [==============================] - ETA: 0s - loss: 0.5616 - accuracy: 0.6875\n",
            "Epoch 23: saving model to ./bestmodel.h5\n",
            "8/8 [==============================] - 4s 529ms/step - loss: 0.5616 - accuracy: 0.6875 - val_loss: 0.5178 - val_accuracy: 0.7676\n",
            "Epoch 24/30\n",
            "8/8 [==============================] - ETA: 0s - loss: 0.5875 - accuracy: 0.7070\n",
            "Epoch 24: saving model to ./bestmodel.h5\n",
            "8/8 [==============================] - 6s 786ms/step - loss: 0.5875 - accuracy: 0.7070 - val_loss: 0.6644 - val_accuracy: 0.6543\n",
            "Epoch 25/30\n",
            "8/8 [==============================] - ETA: 0s - loss: 0.5189 - accuracy: 0.7539\n",
            "Epoch 25: saving model to ./bestmodel.h5\n",
            "8/8 [==============================] - 4s 557ms/step - loss: 0.5189 - accuracy: 0.7539 - val_loss: 0.5278 - val_accuracy: 0.7676\n",
            "Epoch 26/30\n",
            "8/8 [==============================] - ETA: 0s - loss: 0.5373 - accuracy: 0.7500\n",
            "Epoch 26: saving model to ./bestmodel.h5\n",
            "8/8 [==============================] - 4s 527ms/step - loss: 0.5373 - accuracy: 0.7500 - val_loss: 0.5238 - val_accuracy: 0.7656\n",
            "Epoch 27/30\n",
            "8/8 [==============================] - ETA: 0s - loss: 0.6007 - accuracy: 0.6875\n",
            "Epoch 27: saving model to ./bestmodel.h5\n",
            "8/8 [==============================] - 6s 727ms/step - loss: 0.6007 - accuracy: 0.6875 - val_loss: 0.7505 - val_accuracy: 0.6035\n",
            "Epoch 28/30\n",
            "8/8 [==============================] - ETA: 0s - loss: 0.5606 - accuracy: 0.7244\n",
            "Epoch 28: saving model to ./bestmodel.h5\n",
            "8/8 [==============================] - 4s 537ms/step - loss: 0.5606 - accuracy: 0.7244 - val_loss: 0.5453 - val_accuracy: 0.7441\n",
            "Epoch 29/30\n",
            "8/8 [==============================] - ETA: 0s - loss: 0.5318 - accuracy: 0.7461\n",
            "Epoch 29: saving model to ./bestmodel.h5\n",
            "8/8 [==============================] - 5s 695ms/step - loss: 0.5318 - accuracy: 0.7461 - val_loss: 0.5031 - val_accuracy: 0.7891\n",
            "Epoch 30/30\n",
            "8/8 [==============================] - ETA: 0s - loss: 0.5303 - accuracy: 0.7617\n",
            "Epoch 30: saving model to ./bestmodel.h5\n",
            "8/8 [==============================] - 5s 581ms/step - loss: 0.5303 - accuracy: 0.7617 - val_loss: 0.6951 - val_accuracy: 0.6289\n"
          ]
        }
      ]
    },
    {
      "cell_type": "code",
      "source": [
        "#Model graphical interpretation\n",
        "\n",
        "h=hs.history\n",
        "h.keys()\n"
      ],
      "metadata": {
        "colab": {
          "base_uri": "https://localhost:8080/"
        },
        "id": "f7C0OUtB3duX",
        "outputId": "00cf8756-6830-4c10-efd6-472b93fc9a46"
      },
      "execution_count": 26,
      "outputs": [
        {
          "output_type": "execute_result",
          "data": {
            "text/plain": [
              "dict_keys(['loss', 'accuracy', 'val_loss', 'val_accuracy'])"
            ]
          },
          "metadata": {},
          "execution_count": 26
        }
      ]
    },
    {
      "cell_type": "code",
      "source": [
        "import matplotlib.pyplot as plt\n",
        "\n",
        "plt.plot(h['accuracy'])\n",
        "\n",
        "plt.plot(h['val_accuracy'],c='red')\n",
        "\n",
        "plt.title('Accuracy vs Validation Accuracy')\n",
        "plt.show()"
      ],
      "metadata": {
        "colab": {
          "base_uri": "https://localhost:8080/",
          "height": 452
        },
        "id": "6aN5hvdn4AR6",
        "outputId": "6c178a25-193e-4502-c694-66ccab67576e"
      },
      "execution_count": 27,
      "outputs": [
        {
          "output_type": "display_data",
          "data": {
            "text/plain": [
              "<Figure size 640x480 with 1 Axes>"
            ],
            "image/png": "[encoded data removed]"
          },
          "metadata": {}
        }
      ]
    },
    {
      "cell_type": "code",
      "source": [
        "import matplotlib.pyplot as plt\n",
        "\n",
        "plt.plot(h['loss'])\n",
        "\n",
        "plt.plot(h['val_loss'],c='red')\n",
        "\n",
        "plt.title('Loss vs Validation Loss')\n",
        "plt.show()"
      ],
      "metadata": {
        "colab": {
          "base_uri": "https://localhost:8080/",
          "height": 452
        },
        "id": "eTMkoIdv8UQw",
        "outputId": "0cfbd18b-856a-412d-9c2b-5259ecb8af07"
      },
      "execution_count": 28,
      "outputs": [
        {
          "output_type": "display_data",
          "data": {
            "text/plain": [
              "<Figure size 640x480 with 1 Axes>"
            ],
            "image/png": "[encoded data removed]"
          },
          "metadata": {}
        }
      ]
    },
    {
      "cell_type": "code",
      "source": [
        "#Model accuracy\n",
        "\n",
        "from keras.models import load_model\n",
        "model=load_model(\"/content/bestmodel.h5\")"
      ],
      "metadata": {
        "id": "6VnLUluM-MsG"
      },
      "execution_count": 29,
      "outputs": []
    },
    {
      "cell_type": "code",
      "source": [
        "model.save('/content/model.keras')"
      ],
      "metadata": {
        "id": "hM9i-NKMpw1k"
      },
      "execution_count": 30,
      "outputs": []
    },
    {
      "cell_type": "code",
      "source": [
        "model = keras.models.load_model('/content/model.keras')"
      ],
      "metadata": {
        "id": "BjZsxWbOp6Ei"
      },
      "execution_count": 31,
      "outputs": []
    },
    {
      "cell_type": "code",
      "source": [
        "acc=model.evaluate(test_data)[1]\n",
        "\n",
        "print(f\"Accuracy of the model is {acc*100}% \")"
      ],
      "metadata": {
        "colab": {
          "base_uri": "https://localhost:8080/"
        },
        "id": "14L_JK2e-o5T",
        "outputId": "dc37e687-ac58-4a6b-fda9-0d9940b93e73"
      },
      "execution_count": 32,
      "outputs": [
        {
          "output_type": "stream",
          "name": "stdout",
          "text": [
            "18/18 [==============================] - 2s 83ms/step - loss: 0.6935 - accuracy: 0.6516\n",
            "Accuracy of the model is 65.16245603561401% \n"
          ]
        }
      ]
    },
    {
      "cell_type": "code",
      "source": [
        "from tensorflow.keras.preprocessing.image import load_img, img_to_array\n"
      ],
      "metadata": {
        "id": "MOW-jQEP_hqO"
      },
      "execution_count": 33,
      "outputs": []
    },
    {
      "cell_type": "code",
      "source": [
        "import tensorflow as tf\n",
        "print(tf.__version__)"
      ],
      "metadata": {
        "colab": {
          "base_uri": "https://localhost:8080/"
        },
        "id": "pV7W9RKPCLEb",
        "outputId": "79588b8c-4f94-429b-d187-b90e0d04ea85"
      },
      "execution_count": 34,
      "outputs": [
        {
          "output_type": "stream",
          "name": "stdout",
          "text": [
            "2.12.0\n"
          ]
        }
      ]
    },
    {
      "cell_type": "code",
      "source": [
        "path=\"/content/drive/MyDrive/BrainSpot/Brain Tumour 1/Testing/no_tumor/image(102).jpg\"\n",
        "\n",
        "img=load_img(path,target_size=(224,224))\n",
        "\n",
        "input_arr=img_to_array(img)/255\n",
        "\n",
        "plt.imshow(input_arr)\n",
        "plt.show()\n",
        "\n",
        "# Expand dimensions to match the input shape of your model\n",
        "input_arr = np.expand_dims(input_arr, axis=0)\n",
        "\n",
        "# Make predictions\n",
        "predictions = model.predict(input_arr)\n",
        "\n",
        "# Assuming class 0 corresponds to \"Tumour\" and class 1 corresponds to \"No Tumour\"\n",
        "if predictions[0][0] >= 0.5:\n",
        "    print(\"MRI is Not having a tumour\")\n",
        "else:\n",
        "    print(\"MRI is Having a Tumour\")\n"
      ],
      "metadata": {
        "colab": {
          "base_uri": "https://localhost:8080/",
          "height": 469
        },
        "id": "0E20VUT3B_hu",
        "outputId": "53ecae0d-5c9c-4f33-c7c7-0c75f4381d34"
      },
      "execution_count": 37,
      "outputs": [
        {
          "output_type": "display_data",
          "data": {
            "text/plain": [
              "<Figure size 640x480 with 1 Axes>"
            ],
            "image/png": "[encoded data removed]"
          },
          "metadata": {}
        },
        {
          "output_type": "stream",
          "name": "stdout",
          "text": [
            "1/1 [==============================] - 0s 367ms/step\n",
            "MRI is Having a Tumour\n"
          ]
        }
      ]
    },
    {
      "cell_type": "code",
      "source": [
        "train_data.class_indices\n",
        "{'Non tumour':0,\"Tumour\":1}"
      ],
      "metadata": {
        "id": "qggq5PxOD2Qd",
        "colab": {
          "base_uri": "https://localhost:8080/"
        },
        "outputId": "019746be-d55a-4287-e364-6fa7886b128c"
      },
      "execution_count": 38,
      "outputs": [
        {
          "output_type": "execute_result",
          "data": {
            "text/plain": [
              "{'Non tumour': 0, 'Tumour': 1}"
            ]
          },
          "metadata": {},
          "execution_count": 38
        }
      ]
    },
    {
      "cell_type": "code",
      "source": [
        "import numpy as np\n",
        "import matplotlib.pyplot as plt\n",
        "from keras.models import load_model\n",
        "from sklearn.metrics import accuracy_score, precision_score, recall_score, f1_score, confusion_matrix, classification_report\n",
        "from tensorflow.keras.preprocessing.image import load_img, img_to_array\n",
        "\n",
        "# Load the trained model\n",
        "model_path = \"/content/drive/MyDrive/Project1/bestmodel(1).h5\"  # Replace with the path to your model\n",
        "model = load_model(model_path)\n",
        "\n",
        "# Load the test data using an ImageDataGenerator\n",
        "def preImage2(path):\n",
        "    \"\"\"\n",
        "    input:path\n",
        "    output:preprocessed images\n",
        "    \"\"\"\n",
        "    image_data = ImageDataGenerator(rescale=1/255)  # No data augmentation in testing\n",
        "\n",
        "    image = image_data.flow_from_directory(directory=path, target_size=(224, 224), batch_size=32, class_mode='binary')\n",
        "\n",
        "    return image\n",
        "\n",
        "path = \"/content/drive/MyDrive/NewDataset4/Brain Tumour1\"\n",
        "test_data = preImage2(path)\n",
        "\n",
        "# Make predictions on the test data\n",
        "y_true = test_data.classes\n",
        "y_pred = (model.predict(test_data) > 0.5).astype(int)\n",
        "\n",
        "# Calculate evaluation metrics\n",
        "accuracy = accuracy_score(y_true, y_pred)\n",
        "precision = precision_score(y_true, y_pred)\n",
        "recall = recall_score(y_true, y_pred)\n",
        "f1 = f1_score(y_true, y_pred)\n",
        "confusion_mat = confusion_matrix(y_true, y_pred)\n",
        "classification_rep = classification_report(y_true, y_pred, target_names=test_data.class_indices.keys())\n",
        "\n",
        "print(\"Accuracy:\", accuracy)\n",
        "print(\"Precision:\", precision)\n",
        "print(\"Recall:\", recall)\n",
        "print(\"F1-Score:\", f1)\n",
        "print(\"Confusion Matrix:\\n\", confusion_mat)\n",
        "print(\"Classification Report:\\n\", classification_rep)\n"
      ],
      "metadata": {
        "colab": {
          "base_uri": "https://localhost:8080/"
        },
        "id": "RjmCeMYk3J5B",
        "outputId": "e0c1d64b-7403-470e-c6f3-c77294374a99"
      },
      "execution_count": 53,
      "outputs": [
        {
          "output_type": "stream",
          "name": "stdout",
          "text": [
            "Found 3792 images belonging to 2 classes.\n",
            "119/119 [==============================] - 999s 8s/step\n",
            "Accuracy: 0.5160864978902954\n",
            "Precision: 0.43018867924528303\n",
            "Recall: 0.2703023117960877\n",
            "F1-Score: 0.33199854386603567\n",
            "Confusion Matrix:\n",
            " [[1501  604]\n",
            " [1231  456]]\n",
            "Classification Report:\n",
            "               precision    recall  f1-score   support\n",
            "\n",
            "  Non tumour       0.55      0.71      0.62      2105\n",
            "      Tumour       0.43      0.27      0.33      1687\n",
            "\n",
            "    accuracy                           0.52      3792\n",
            "   macro avg       0.49      0.49      0.48      3792\n",
            "weighted avg       0.50      0.52      0.49      3792\n",
            "\n"
          ]
        }
      ]
    }
  ]
}